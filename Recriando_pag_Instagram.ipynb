{
  "nbformat": 4,
  "nbformat_minor": 0,
  "metadata": {
    "colab": {
      "name": "Recriando_pag_Instagram.ipynb",
      "provenance": [],
      "collapsed_sections": [],
      "authorship_tag": "ABX9TyPLk+M5gzuI5bzlINii+SvN",
      "include_colab_link": true
    },
    "kernelspec": {
      "name": "python3",
      "display_name": "Python 3"
    },
    "language_info": {
      "name": "python"
    }
  },
  "cells": [
    {
      "cell_type": "markdown",
      "metadata": {
        "id": "view-in-github",
        "colab_type": "text"
      },
      "source": [
        "<a href=\"https://colab.research.google.com/github/wponciano/Recriando_pag_Instagram/blob/main/Recriando_pag_Instagram.ipynb\" target=\"_parent\"><img src=\"https://colab.research.google.com/assets/colab-badge.svg\" alt=\"Open In Colab\"/></a>"
      ]
    },
    {
      "cell_type": "code",
      "metadata": {
        "id": "vkT41f36Jitl"
      },
      "source": [
        "<!--Recriar página inicial do Instagram-->\n",
        "<!-- Bloco inicial-->\n",
        "<!DOCTYPE html>\n",
        "<html lang=\"en\">\n",
        "<head>\n",
        "    <meta charset=\"UTF-8\">\n",
        "    <meta name=\"viewport\" content=\"width=device-width, initial-scale=1.0\">\n",
        "    <link rel=\"stylesheet\" href=\"style2.css\">\n",
        "    <title>Instagram</title> <!-- Nome que irá aparecer na aba-->\n",
        "</head>\n",
        "<!-- Fim Bloco inicial-->\n",
        "<body>\n",
        "    <div class=\"instagram-wrapper\">\n",
        "        <div class=\"instagram-phone\"> <!-- bloco da foto do celular-->\n",
        "            <img src=\"./img/instagram-celular.png\" alt=\"celular\">\n",
        "        </div>\n",
        "        <div class=\"instagram-continue\"><!-- Bloco login-->\n",
        "            <div class=\"group\"><!-- Bloco superior direito-->\n",
        "                <img src=\"./img/instagram-logo.png\" class=\"instagram-logo\" alt=\"instagram-logo\">\n",
        "                <div class=\"profile-foto\">\n",
        "                    <img src=\"./img/foto_w.jpg\" alt=\"foto_w\">\n",
        "                </div>\n",
        "                <a href=\"#\" class=\"instagram-login\">Continue como W</a>\n",
        "                <a href=\"#\" class=\"instagram-logout\">Remover conta</a>\n",
        "            </div>\n",
        "            <div class=\"group\"><!-- Bloco inferior direito-->\n",
        "                <p class=\"not-account\">Não é W ?</p>\n",
        "                <p class=\"not-account\">\n",
        "                    <span class=\"link-blue\">Alterar contas</span>\n",
        "                    ou \n",
        "                    <span class=\"link-blue\">Inscrever</span>\n",
        "                </p>\n",
        "            </div>\n",
        "            <div class=\"get_the_app\"><!-- Bloco link lojas app-->\n",
        "                <div class=\"get_app\">Baixe o App</div>\n",
        "                <div class=\"download\">\n",
        "                    <a href=\"#\" class=\"app-download\"></a>\n",
        "                    <a href=\"#\" class=\"app-download\"></a>\n",
        "                </div>\n",
        "\n",
        "                \n",
        "            </div>\n",
        "        </div>\n",
        "    </div>\n",
        "\n",
        "</body>\n",
        "</html>\n",
        "\n"
      ],
      "execution_count": null,
      "outputs": []
    }
  ]
}